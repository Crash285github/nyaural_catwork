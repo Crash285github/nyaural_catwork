{
  "cells": [
    {
      "cell_type": "markdown",
      "source": [
        "# Initialization"
      ],
      "metadata": {
        "id": "6BC39M1S_2r-"
      }
    },
    {
      "cell_type": "code",
      "source": [
        "!rm -rf sample_data\n",
        "\n",
        "!wget https://github.com/Crash285github/nyaural_catwork/raw/main/data/cats.zip -P data/\n",
        "\n",
        "from zipfile import ZipFile\n",
        "\n",
        "with ZipFile('data/cats.zip', 'r') as cats:\n",
        "  cats.extractall('data/')\n",
        "\n",
        "!rm data/cats.zip\n",
        "\n",
        "import os\n",
        "print(len(os.listdir('data')))"
      ],
      "metadata": {
        "id": "OX2d-69T-A-U"
      },
      "execution_count": null,
      "outputs": []
    }
  ],
  "metadata": {
    "kernelspec": {
      "display_name": "Python 3",
      "language": "python",
      "name": "python3"
    },
    "language_info": {
      "codemirror_mode": {
        "name": "ipython",
        "version": 3
      },
      "file_extension": ".py",
      "mimetype": "text/x-python",
      "name": "python",
      "nbconvert_exporter": "python",
      "pygments_lexer": "ipython3",
      "version": "3.11.2"
    },
    "colab": {
      "provenance": []
    }
  },
  "nbformat": 4,
  "nbformat_minor": 0
}