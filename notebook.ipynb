{
  "cells": [
    {
      "cell_type": "markdown",
      "metadata": {
        "id": "6BC39M1S_2r-"
      },
      "source": [
        "## <font color='#f7f'> [0] Initialization </font>"
      ]
    },
    {
      "cell_type": "code",
      "execution_count": null,
      "metadata": {
        "id": "OX2d-69T-A-U"
      },
      "outputs": [],
      "source": [
        "# remove residues from notebook\n",
        "!rm -rf sample_data\n",
        "\n",
        "# get the zip containing the cat images\n",
        "!wget https://github.com/Crash285github/nyaural_catwork/raw/main/data/cats.zip -P data/\n",
        "\n",
        "# extract the cats into data/\n",
        "from zipfile import ZipFile\n",
        "with ZipFile('data/cats.zip', 'r') as cats:\n",
        "  cats.extractall('data')\n",
        "\n",
        "# remove the downloaded zip\n",
        "!rm data/cats.zip"
      ]
    },
    {
      "cell_type": "markdown",
      "metadata": {},
      "source": [
        "# <font color='#f77'>[1] Data manipulation </font>"
      ]
    },
    {
      "cell_type": "markdown",
      "metadata": {},
      "source": [
        "#### <font color='#777'> [1.0] Imports</font>"
      ]
    },
    {
      "cell_type": "code",
      "execution_count": null,
      "metadata": {},
      "outputs": [],
      "source": [
        "from torch.utils.data import Dataset, DataLoader, random_split\n",
        "from torchvision import transforms as tforms\n",
        "import os\n",
        "import numpy as np\n",
        "\n",
        "import matplotlib.pyplot as plt\n",
        "%matplotlib inline"
      ]
    },
    {
      "cell_type": "markdown",
      "metadata": {},
      "source": [
        "#### <font color='#7f4'> [1.1] Dataset class</font> "
      ]
    },
    {
      "cell_type": "code",
      "execution_count": null,
      "metadata": {},
      "outputs": [],
      "source": [
        "class CatDataset(Dataset):\n",
        "    def __init__(self, main_dir, transform):\n",
        "        self.main_dir = main_dir\n",
        "        self.transform = transform\n",
        "        self.total_imgs = os.listdir(main_dir)\n",
        "\n",
        "    def __len__(self):\n",
        "        return len(self.total_imgs)\n",
        "\n",
        "    def __getitem__(self, idx):\n",
        "        img_loc = os.path.join(self.main_dir, self.total_imgs[idx])\n",
        "        image = Image.open(img_loc).convert('RGB')\n",
        "        \n",
        "        # we permute: (3, 64, 64) --> (64, 64, 3), this way matplotlib can show it\n",
        "        tensor_image = self.transform(image).permute(1,2,0)\n",
        "        return tensor_image"
      ]
    },
    {
      "cell_type": "markdown",
      "metadata": {},
      "source": [
        "#### <font color='#6f4'>[1.2] Dataset details</font>"
      ]
    },
    {
      "cell_type": "code",
      "execution_count": null,
      "metadata": {},
      "outputs": [],
      "source": [
        "# image transformations\n",
        "transforms = tforms.Compose([\n",
        "  tforms.ToTensor(),\n",
        "  tforms.Grayscale()\n",
        "])\n",
        "\n",
        "# dataset divisions (you can change these)\n",
        "train_frac, val_frac, test_frac = 7, 2, 1\n",
        "\n",
        "# normalize divisions\n",
        "n_train_frac = train_frac / (train_frac + val_frac + test_frac)\n",
        "n_val_frac = val_frac / (train_frac + val_frac + test_frac)\n",
        "n_test_frac = test_frac / (train_frac + val_frac + test_frac)\n",
        "\n",
        "print(f'{(n_train_frac*100):.1f} % Training data')\n",
        "print(f'{(n_val_frac*100):.1f} % Validation data')\n",
        "print(f'{(n_test_frac*100):.1f} % Testing data')"
      ]
    },
    {
      "cell_type": "markdown",
      "metadata": {},
      "source": [
        "#### <font color='#7f4'>[1.3] Create Datasets</font>"
      ]
    },
    {
      "cell_type": "code",
      "execution_count": null,
      "metadata": {},
      "outputs": [],
      "source": [
        "# create Dataset\n",
        "dataset = CatDataset('data', transforms)\n",
        "\n",
        "# split Dataset\n",
        "train_dataset, val_dataset, test_dataset = random_split(dataset, [n_train_frac, n_val_frac, n_test_frac])\n",
        "\n",
        "print(f'{len(train_dataset)}\\ttraining images')\n",
        "print(f'{len(val_dataset)}\\tvalidating images')\n",
        "print(f'{len(test_dataset)}\\ttesting images')"
      ]
    },
    {
      "cell_type": "markdown",
      "metadata": {},
      "source": [
        "##### <font color='#f74'>[1.3.1] Visualize Datasets </font>"
      ]
    },
    {
      "cell_type": "code",
      "execution_count": null,
      "metadata": {},
      "outputs": [],
      "source": [
        "# you can change this\n",
        "number_of_samples = 5\n",
        "\n",
        "def make_plt(dataset, title):\n",
        "   fig, _ = plt.subplots(1, number_of_samples)\n",
        "   fig.set_figwidth(24)\n",
        "   fig.suptitle(title, fontsize=32)\n",
        "\n",
        "   selected = np.random.choice(len(dataset), number_of_samples, False)\n",
        "   for i, ind in enumerate(selected):\n",
        "      plt.subplot(1, number_of_samples, i+1)\n",
        "      plt.imshow(dataset[ind], cmap='gray')\n",
        "      plt.axis('off')\n",
        "\n",
        "\n",
        "# training\n",
        "make_plt(train_dataset, \"Training data\")\n",
        "\n",
        "# validation\n",
        "make_plt(val_dataset, \"Validation data\")\n",
        "   \n",
        "# testing\n",
        "make_plt(test_dataset, \"Testing data\")\n"
      ]
    },
    {
      "cell_type": "markdown",
      "metadata": {},
      "source": [
        "#### <font color='#7f4'>[1.4] Create DataLoaders </font>"
      ]
    },
    {
      "cell_type": "code",
      "execution_count": null,
      "metadata": {},
      "outputs": [],
      "source": [
        "# training lodaer\n",
        "\n",
        "# validation loader\n",
        "\n",
        "# testing loader"
      ]
    }
  ],
  "metadata": {
    "colab": {
      "provenance": []
    },
    "kernelspec": {
      "display_name": "Python 3",
      "language": "python",
      "name": "python3"
    },
    "language_info": {
      "codemirror_mode": {
        "name": "ipython",
        "version": 3
      },
      "file_extension": ".py",
      "mimetype": "text/x-python",
      "name": "python",
      "nbconvert_exporter": "python",
      "pygments_lexer": "ipython3",
      "version": "3.11.2"
    }
  },
  "nbformat": 4,
  "nbformat_minor": 0
}
