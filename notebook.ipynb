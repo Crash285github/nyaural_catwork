{
  "cells": [
    {
      "cell_type": "markdown",
      "metadata": {
        "id": "6BC39M1S_2r-"
      },
      "source": [
        "### <font color='#FF93D5'> [0] <u>Initialization</u> </font>"
      ]
    },
    {
      "cell_type": "code",
      "execution_count": null,
      "metadata": {
        "id": "OX2d-69T-A-U"
      },
      "outputs": [],
      "source": [
        "# remove residues from notebook\n",
        "!rm -rf sample_data\n",
        "\n",
        "# get the zip containing the cat images\n",
        "!wget https://github.com/Crash285github/nyaural_catwork/raw/main/data/cats.zip -P data/\n",
        "\n",
        "# extract the cats into data/\n",
        "from zipfile import ZipFile\n",
        "with ZipFile('data/cats.zip', 'r') as cats:\n",
        "  cats.extractall('data')\n",
        "\n",
        "# remove the downloaded zip\n",
        "!rm data/cats.zip"
      ]
    },
    {
      "cell_type": "markdown",
      "metadata": {
        "id": "fUwS5LNjOGjm"
      },
      "source": [
        "### <font color='#FF7580'>[1] <u>Data manipulation</u> </font>"
      ]
    },
    {
      "cell_type": "markdown",
      "metadata": {
        "id": "PwCXVVGWOGjn"
      },
      "source": [
        "#### <font color='#777'> [1.0] Imports, parameters</font>"
      ]
    },
    {
      "cell_type": "code",
      "execution_count": null,
      "metadata": {
        "id": "yLDeQoJTOGjo"
      },
      "outputs": [],
      "source": [
        "from torch.utils.data import Dataset, DataLoader, random_split\n",
        "from torchvision import transforms as tforms\n",
        "import os\n",
        "import numpy as np\n",
        "from PIL import Image\n",
        "import matplotlib.pyplot as plt\n",
        "%matplotlib inline\n",
        "\n",
        "# how to divide the dataset later on\n",
        "train_frac, val_frac, test_frac = 7, 2, 1\n",
        "\n",
        "# show dataset images on [1.3.1]\n",
        "visualize_datasets = True\n",
        "# how many images to show\n",
        "number_of_samples = 5"
      ]
    },
    {
      "cell_type": "markdown",
      "metadata": {
        "id": "j88z-y2cOGjo"
      },
      "source": [
        "#### <font color='#C45A63'> [1.1] Dataset class</font>"
      ]
    },
    {
      "cell_type": "code",
      "execution_count": null,
      "metadata": {
        "id": "CJ6IUTVQOGjp"
      },
      "outputs": [],
      "source": [
        "class CatDataset(Dataset):\n",
        "    def __init__(self, main_dir, transform):\n",
        "        self.main_dir = main_dir\n",
        "        self.transform = transform\n",
        "        self.total_imgs = []\n",
        "\n",
        "        for img in os.listdir(main_dir):\n",
        "            if img.endswith(\".zip\"):\n",
        "                continue\n",
        "            img_loc = os.path.join(self.main_dir, img)\n",
        "            image = Image.open(img_loc).convert('RGB')\n",
        "            tensor_image = self.transform(image)\n",
        "            self.total_imgs.append(tensor_image)\n",
        "\n",
        "    def __len__(self):\n",
        "        return len(self.total_imgs)\n",
        "\n",
        "    def __getitem__(self, idx):\n",
        "        return self.total_imgs[idx]"
      ]
    },
    {
      "cell_type": "markdown",
      "metadata": {
        "id": "lP6qhjLLOGjp"
      },
      "source": [
        "#### <font color='#C45A63'>[1.2] Dataset details</font>"
      ]
    },
    {
      "cell_type": "code",
      "execution_count": null,
      "metadata": {
        "id": "SuUkPZODOGjq"
      },
      "outputs": [],
      "source": [
        "# image transformations\n",
        "transforms = tforms.Compose([\n",
        "  tforms.ToTensor(),\n",
        "  tforms.Grayscale()\n",
        "])\n",
        "\n",
        "# normalize divisions\n",
        "n_train_frac = train_frac / (train_frac + val_frac + test_frac)\n",
        "n_val_frac = val_frac / (train_frac + val_frac + test_frac)\n",
        "n_test_frac = test_frac / (train_frac + val_frac + test_frac)\n",
        "\n",
        "print(f'{(n_train_frac*100):.1f} % Training data')\n",
        "print(f'{(n_val_frac*100):.1f} % Validation data')\n",
        "print(f'{(n_test_frac*100):.1f} % Testing data')"
      ]
    },
    {
      "cell_type": "markdown",
      "metadata": {
        "id": "r5aoGnVHOGjr"
      },
      "source": [
        "#### <font color='#C45A63'>[1.3] Create Datasets</font>"
      ]
    },
    {
      "cell_type": "code",
      "execution_count": null,
      "metadata": {
        "id": "wTKWz8dbOGjr"
      },
      "outputs": [],
      "source": [
        "# create the dataset\n",
        "dataset = CatDataset('data', transforms)\n",
        "\n",
        "# split the dataset\n",
        "train_dataset, val_dataset, test_dataset = random_split(dataset, [n_train_frac, n_val_frac, n_test_frac])\n",
        "\n",
        "print(f'{len(train_dataset)}\\ttraining images')\n",
        "print(f'{len(val_dataset)}\\tvalidating images')\n",
        "print(f'{len(test_dataset)}\\ttesting images')"
      ]
    },
    {
      "cell_type": "markdown",
      "metadata": {
        "id": "8yKvz5NwOGjr"
      },
      "source": [
        "##### <font color='#777'>[1.3.1] Visualize Datasets </font>"
      ]
    },
    {
      "cell_type": "code",
      "execution_count": null,
      "metadata": {
        "id": "N7zVoAOeOGjs"
      },
      "outputs": [],
      "source": [
        "if visualize_datasets:\n",
        "   def make_plt(dataset, title):\n",
        "      fig, _ = plt.subplots(1, number_of_samples)\n",
        "      fig.set_figwidth(24)\n",
        "      fig.suptitle(title, fontsize=32)\n",
        "\n",
        "      selected = np.random.choice(len(dataset), number_of_samples, False)\n",
        "      for i, ind in enumerate(selected):\n",
        "         plt.subplot(1, number_of_samples, i+1)\n",
        "         # we permute: (?, 64, 64) --> (64, 64, ?)\n",
        "         plt.imshow(dataset[ind].permute(1,2,0), cmap='gray')\n",
        "         plt.axis('off')\n",
        "\n",
        "   # training\n",
        "   make_plt(train_dataset, \"Training data\")\n",
        "\n",
        "   # validation\n",
        "   make_plt(val_dataset, \"Validation data\")\n",
        "\n",
        "   # testing\n",
        "   make_plt(test_dataset, \"Testing data\")\n",
        "\n",
        "else:\n",
        "   print(f\"Settable parameter 'visualize_datasets' is False\" )\n"
      ]
    },
    {
      "cell_type": "markdown",
      "metadata": {
        "id": "0g-TpZjjOGjs"
      },
      "source": [
        "#### <font color='#C45A63'>[1.4] Create DataLoaders </font>"
      ]
    },
    {
      "cell_type": "code",
      "execution_count": null,
      "metadata": {
        "id": "-2ncA54kOGjs"
      },
      "outputs": [],
      "source": [
        "# training loader\n",
        "train_dataloader = DataLoader(train_dataset, batch_size=4, shuffle=True)\n",
        "\n",
        "# validation loader\n",
        "val_dataloader = DataLoader(val_dataset, batch_size=4, shuffle=True)\n",
        "\n",
        "# testing loader\n",
        "test_dataloader = DataLoader(test_dataset, batch_size=4, shuffle=True)"
      ]
    },
    {
      "cell_type": "markdown",
      "metadata": {
        "id": "T9m5eTwJOGjt"
      },
      "source": [
        "### <font color='#FFEC72'>[2] <u>Define Classes</u> </font>"
      ]
    },
    {
      "cell_type": "markdown",
      "metadata": {
        "id": "gYaxYgznOGjt"
      },
      "source": [
        "#### <font color='#777'> [2.0] Imports</font>"
      ]
    },
    {
      "cell_type": "code",
      "execution_count": null,
      "metadata": {
        "id": "wICnkFY7OGjt"
      },
      "outputs": [],
      "source": [
        "import torch.nn as nn\n",
        "from copy import deepcopy"
      ]
    },
    {
      "cell_type": "markdown",
      "metadata": {
        "id": "j2IoQzaeOGjt"
      },
      "source": [
        "#### <font color='#CEBD5C'> [2.1] Dense AutoEncoder</font>"
      ]
    },
    {
      "cell_type": "code",
      "execution_count": null,
      "metadata": {
        "id": "M8fxJMUGOGju"
      },
      "outputs": [],
      "source": [
        "class DenseAutoEncoder(nn.Module):\n",
        "  def __init__(self):\n",
        "    super(DenseAutoEncoder, self).__init__()\n",
        "    self.encoder = nn.Sequential(\n",
        "      nn.Flatten(), # (N, 64, 64) --> (N, 4096)\n",
        "      nn.Linear(64*64, 24*24), # (N, 4096) --> (N, 256)\n",
        "      nn.ReLU(),\n",
        "      nn.Linear(24*24, 16*16),\n",
        "      nn.ReLU(),\n",
        "      nn.Linear(16*16, 4*4),\n",
        "      nn.ReLU(),\n",
        "      nn.Linear(4*4, 2*2)    # (N, 4)\n",
        "    )\n",
        "\n",
        "    self.decoder = nn.Sequential(\n",
        "      nn.Linear(2*2, 4*4),\n",
        "      nn.ReLU(),\n",
        "      nn.Linear(4*4, 16*16),\n",
        "      nn.ReLU(),\n",
        "      nn.Linear(16*16, 24*24),\n",
        "      nn.ReLU(),\n",
        "      nn.Linear(24*24, 64*64),\n",
        "      nn.Sigmoid()\n",
        "    )\n",
        "\n",
        "  def forward(self, x):\n",
        "    encoded = self.encoder(x)\n",
        "    decoded = self.decoder(encoded)\n",
        "\n",
        "    return decoded\n",
        "\n",
        "  def regularization(self):\n",
        "    l2_reg = sum(p.pow(2).sum() for p in self.parameters())\n",
        "    return l2_reg"
      ]
    },
    {
      "cell_type": "markdown",
      "metadata": {
        "id": "ihpPZ-PDOGju"
      },
      "source": [
        "#### <font color='#CEBD5C'> [2.2] Sparse AutoEncoder</font>"
      ]
    },
    {
      "cell_type": "code",
      "execution_count": null,
      "metadata": {
        "id": "gTmdRxK9OGju"
      },
      "outputs": [],
      "source": [
        "class SparseAutoEncoder(nn.Module):\n",
        "  def __init__(self, l1_lam=0.001):\n",
        "    super(SparseAutoEncoder, self).__init__()\n",
        "    self.l1_lam  = l1_lam\n",
        "    self.encoder = nn.Sequential(\n",
        "      nn.Flatten(), # (N, 64, 64) --> (N, 4096)\n",
        "      nn.Linear(64*64, 24*24), # (N, 4096) --> (N, 256)\n",
        "      nn.ReLU(),\n",
        "      nn.Linear(24*24, 16*16),\n",
        "      nn.ReLU(),\n",
        "      nn.Linear(16*16, 4*4),\n",
        "      nn.ReLU(),\n",
        "      nn.Linear(4*4, 2*2)    # (N, 4)\n",
        "    )\n",
        "\n",
        "    self.decoder = nn.Sequential(\n",
        "      nn.Linear(2*2, 4*4),\n",
        "      nn.ReLU(),\n",
        "      nn.Linear(4*4, 16*16),\n",
        "      nn.ReLU(),\n",
        "      nn.Linear(16*16, 24*24),\n",
        "      nn.ReLU(),\n",
        "      nn.Linear(24*24, 64*64),\n",
        "      nn.Sigmoid()\n",
        "    )\n",
        "\n",
        "  def forward(self, x):\n",
        "    encoded = self.encoder(x)\n",
        "    decoded = self.decoder(encoded)\n",
        "\n",
        "    return decoded\n",
        "\n",
        "  def regularization(self):\n",
        "    l1_norm = sum(torch.linalg.norm(p, 1) for p in self.parameters())\n",
        "    return self.l1_lam * l1_norm\n"
      ]
    },
    {
      "cell_type": "markdown",
      "source": [
        "#### <font color='#CEBD5C'> [2.3] EarlyStopper</font>"
      ],
      "metadata": {
        "id": "RgZk3VTb5tik"
      }
    },
    {
      "cell_type": "code",
      "source": [
        "class EarlyStopper:\n",
        "    def __init__(self, patience=1, min_delta=0., model: nn.Module | None = None):\n",
        "        self.patience: int = patience\n",
        "        self.min_delta: float = min_delta\n",
        "        self.counter: int = 0\n",
        "        self.min_validation_loss: float = np.inf\n",
        "        self.__model: nn.Module | None = model\n",
        "        self.__state_dict = None\n",
        "\n",
        "    def __call__(self, validation_loss):\n",
        "        if validation_loss < self.min_validation_loss:\n",
        "            self.min_validation_loss = validation_loss\n",
        "            self.counter = 0\n",
        "            if self.__model is not None:\n",
        "                self.__state_dict = deepcopy(self.__model.state_dict())\n",
        "        elif validation_loss > (self.min_validation_loss + self.min_delta):\n",
        "            self.counter += 1\n",
        "            if self.counter >= self.patience:\n",
        "                return True\n",
        "        return False\n",
        "\n",
        "    def load_checkpoint(self):\n",
        "        if self.__model is not None and self.__state_dict is not None:\n",
        "            with torch.no_grad():\n",
        "                self.__model.load_state_dict(self.__state_dict)\n"
      ],
      "metadata": {
        "id": "WfkVu0NT5_9J"
      },
      "execution_count": null,
      "outputs": []
    },
    {
      "cell_type": "markdown",
      "metadata": {
        "id": "v5FgIisqOGjv"
      },
      "source": [
        "### <font color='#77FF5B'>[3] <u>Training Loop</u> </font>"
      ]
    },
    {
      "cell_type": "markdown",
      "metadata": {
        "id": "ILkoVH4mOGjv"
      },
      "source": [
        "#### <font color='#777'> [3.0] Imports</font>"
      ]
    },
    {
      "cell_type": "code",
      "execution_count": null,
      "metadata": {
        "id": "-eqtEZqtOGjv"
      },
      "outputs": [],
      "source": [
        "import torch\n",
        "import torch.nn as nn\n",
        "import torch.optim as optim"
      ]
    },
    {
      "cell_type": "markdown",
      "metadata": {
        "id": "lVVUyBK_OGjv"
      },
      "source": [
        "#### <font color='#5EAA4C'> [3.1] Models, parameters</font>"
      ]
    },
    {
      "cell_type": "code",
      "execution_count": null,
      "metadata": {
        "id": "sS2oGZadOGjv"
      },
      "outputs": [],
      "source": [
        "num_epochs = 30\n",
        "learning_rate = 0.001\n",
        "\n",
        "# run the training on cuda gpu if available\n",
        "device = torch.device('cuda' if torch.cuda.is_available() else 'cpu')\n",
        "\n",
        "# Dense model\n",
        "dense_model = DenseAutoEncoder().to(device)\n",
        "dense_criterion = nn.MSELoss()\n",
        "dense_optimizer = optim.Adam(dense_model.parameters(), lr=learning_rate)\n",
        "\n",
        "# Sparse model\n",
        "sparse_model = SparseAutoEncoder().to(device)\n",
        "sparse_criterion = nn.MSELoss()\n",
        "sparse_optimizer = optim.Adam(sparse_model.parameters(), lr=learning_rate)"
      ]
    },
    {
      "cell_type": "markdown",
      "source": [
        "#### <font color='#5EAA4C'> [3.1.1] Training, evaluation & testing functions</font>"
      ],
      "metadata": {
        "id": "GyKSnq8tC9ga"
      }
    },
    {
      "cell_type": "code",
      "source": [
        "def train_one_epoch(model, optimizer, data_loader, criterion):\n",
        "  model.train()\n",
        "  losses = []\n",
        "  for i, image in enumerate(data_loader):\n",
        "    print(f'\\r Training: {(i*100 / len(data_loader)):.1f}%', end='')\n",
        "    image = image.reshape(-1,64*64).to(device)\n",
        "\n",
        "    # forward pass\n",
        "    reconstructed_image = model(image)\n",
        "    loss = criterion(reconstructed_image, image) + model.regularization()\n",
        "\n",
        "    # backward pass\n",
        "    optimizer.zero_grad()\n",
        "    loss.backward()\n",
        "    optimizer.step()\n",
        "\n",
        "    losses.append(loss.item())\n",
        "  print('\\r Training: 100.0%', end='')\n",
        "  return np.mean(losses)\n",
        "\n",
        "def test_model(model, data_loader, criterion, phase):\n",
        "  model.eval()\n",
        "  losses = []\n",
        "  for i, image in enumerate(data_loader):\n",
        "    print(f'\\r {phase}: {(i*100 / len(data_loader)):.1f}%', end='')\n",
        "    image = image.reshape(-1,64*64).to(device)\n",
        "\n",
        "    # forward pass\n",
        "    reconstructed_image = model(image)\n",
        "    loss = criterion(reconstructed_image, image) + model.regularization()\n",
        "\n",
        "    losses.append(loss.item())\n",
        "  print(f'\\r {phase}: 100.0%', end='')\n",
        "  return np.mean(losses)\n"
      ],
      "metadata": {
        "id": "40lWO_0Y8V9u"
      },
      "execution_count": null,
      "outputs": []
    },
    {
      "cell_type": "markdown",
      "metadata": {
        "id": "sI2r_6yJOGjw"
      },
      "source": [
        "#### <font color='#5EAA4C'> [3.2] Train DenseAutoEncoder</font>"
      ]
    },
    {
      "cell_type": "code",
      "execution_count": null,
      "metadata": {
        "id": "0cjL8TovOGjw"
      },
      "outputs": [],
      "source": [
        "early_stopper = EarlyStopper(model=dense_model, patience=5)\n",
        "for epoch in range(num_epochs):\n",
        "  print(f'Epoch {epoch+1}:')\n",
        "\n",
        "  train_loss = train_one_epoch(dense_model, dense_optimizer, train_dataloader, dense_criterion)\n",
        "  print(f'\\t| loss: {train_loss.item():.4f}')\n",
        "\n",
        "  val_loss = test_model(dense_model, val_dataloader, dense_criterion, phase='Validating')\n",
        "  print(f'\\t| loss: {val_loss.item():.4f}')\n",
        "\n",
        "  test_loss = test_model(dense_model, test_dataloader, dense_criterion, phase='Testing')\n",
        "  print(f'\\t| loss: {test_loss.item():.4f}')\n",
        "\n",
        "  print('=' * 20)\n",
        "\n",
        "  if early_stopper(val_loss):\n",
        "    print(\"Early stopped\")\n",
        "    early_stopper.load_checkpoint()\n",
        "    break"
      ]
    },
    {
      "cell_type": "markdown",
      "source": [
        "#### <font color='#5EAA4C'> [3.3] Train SparseAutoEncoder</font>"
      ],
      "metadata": {
        "id": "yxPW9BUaZqzC"
      }
    },
    {
      "cell_type": "code",
      "source": [
        "early_stopper = EarlyStopper(model=sparse_model, patience=5)\n",
        "for epoch in range(num_epochs):\n",
        "  print(f'Epoch {epoch+1}:')\n",
        "\n",
        "  train_loss = train_one_epoch(sparse_model, sparse_optimizer, train_dataloader, sparse_criterion)\n",
        "  print(f'\\t| loss: {train_loss.item():.4f}')\n",
        "\n",
        "  val_loss = test_model(sparse_model, val_dataloader, sparse_criterion, phase='Validating')\n",
        "  print(f'\\t| loss: {val_loss.item():.4f}')\n",
        "\n",
        "  test_loss = test_model(sparse_model, test_dataloader, sparse_criterion, phase='Testing')\n",
        "  print(f'\\t| loss: {test_loss.item():.4f}')\n",
        "\n",
        "  print('=' * 20)\n",
        "\n",
        "  if early_stopper(val_loss):\n",
        "    print(\"Early stopped\")\n",
        "    early_stopper.load_checkpoint()\n",
        "    break"
      ],
      "metadata": {
        "id": "ZKPiuALfZx4Q"
      },
      "execution_count": null,
      "outputs": []
    },
    {
      "cell_type": "markdown",
      "source": [
        "#### <font color='#5EAA4C'> [3.3] Visualize original and reconstructed images</font>"
      ],
      "metadata": {
        "id": "IXcXtUvrVJVo"
      }
    },
    {
      "cell_type": "code",
      "source": [],
      "metadata": {
        "id": "xdj6cMnjfIA-"
      },
      "execution_count": null,
      "outputs": []
    }
  ],
  "metadata": {
    "colab": {
      "provenance": [],
      "gpuType": "T4"
    },
    "kernelspec": {
      "display_name": "Python 3",
      "name": "python3"
    },
    "language_info": {
      "codemirror_mode": {
        "name": "ipython",
        "version": 3
      },
      "file_extension": ".py",
      "mimetype": "text/x-python",
      "name": "python",
      "nbconvert_exporter": "python",
      "pygments_lexer": "ipython3",
      "version": "3.11.2"
    },
    "accelerator": "GPU"
  },
  "nbformat": 4,
  "nbformat_minor": 0
}