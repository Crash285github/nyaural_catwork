{
  "cells": [
    {
      "cell_type": "markdown",
      "metadata": {
        "id": "6BC39M1S_2r-"
      },
      "source": [
        "## <font color='#f7f'> [0] Initialization </font>"
      ]
    },
    {
      "cell_type": "code",
      "execution_count": null,
      "metadata": {
        "id": "OX2d-69T-A-U"
      },
      "outputs": [],
      "source": [
        "# remove residues from notebook\n",
        "!rm -rf sample_data\n",
        "\n",
        "# get the zip containing the cat images\n",
        "!wget https://github.com/Crash285github/nyaural_catwork/raw/main/data/cats.zip -P data/\n",
        "\n",
        "# extract the cats into data/\n",
        "from zipfile import ZipFile\n",
        "with ZipFile('data/cats.zip', 'r') as cats:\n",
        "  cats.extractall('data')\n",
        "\n",
        "# remove the downloaded zip\n",
        "!rm data/cats.zip"
      ]
    },
    {
      "cell_type": "markdown",
      "metadata": {},
      "source": [
        "# <font color='#f77'>[1] Data manipulation </font>"
      ]
    },
    {
      "cell_type": "markdown",
      "metadata": {},
      "source": [
        "#### <font color='#777'> [1.0] Imports</font>"
      ]
    },
    {
      "cell_type": "code",
      "execution_count": null,
      "metadata": {},
      "outputs": [],
      "source": [
        "from torch.utils.data import Dataset\n",
        "from torchvision import transforms\n",
        "import os\n",
        "import matplotlib.pyplot as plt\n",
        "%matplotlib inline"
      ]
    },
    {
      "cell_type": "markdown",
      "metadata": {},
      "source": [
        "#### <font color='#47f'> [1.1] Dataset class</font> "
      ]
    },
    {
      "cell_type": "code",
      "execution_count": null,
      "metadata": {},
      "outputs": [],
      "source": [
        "class CatDataset(Dataset):\n",
        "    def __init__(self, main_dir, transform):\n",
        "        self.main_dir = main_dir\n",
        "        self.transform = transform\n",
        "        self.total_imgs = os.listdir(main_dir)\n",
        "\n",
        "    def __len__(self):\n",
        "        return len(self.total_imgs)\n",
        "\n",
        "    def __getitem__(self, idx):\n",
        "        img_loc = os.path.join(self.main_dir, self.total_imgs[idx])\n",
        "        image = Image.open(img_loc)\n",
        "        \n",
        "        # we permute: (3, 64, 64) --> (64, 64, 3), this way matplotlib can show it\n",
        "        tensor_image = self.transform(image).permute(1,2,0)\n",
        "        return tensor_image"
      ]
    },
    {
      "cell_type": "markdown",
      "metadata": {},
      "source": [
        "#### <font color='#47f'>[1.2] Create dataset</font>"
      ]
    },
    {
      "cell_type": "code",
      "execution_count": null,
      "metadata": {},
      "outputs": [],
      "source": [
        "dataset = CatDataset('data', transforms.ToTensor())\n",
        "\n",
        "plt.imshow(dataset[10])\n",
        "print(dataset[10])"
      ]
    }
  ],
  "metadata": {
    "colab": {
      "provenance": []
    },
    "kernelspec": {
      "display_name": "Python 3",
      "language": "python",
      "name": "python3"
    },
    "language_info": {
      "codemirror_mode": {
        "name": "ipython",
        "version": 3
      },
      "file_extension": ".py",
      "mimetype": "text/x-python",
      "name": "python",
      "nbconvert_exporter": "python",
      "pygments_lexer": "ipython3",
      "version": "3.11.2"
    }
  },
  "nbformat": 4,
  "nbformat_minor": 0
}
